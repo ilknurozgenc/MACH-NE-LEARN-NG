{
 "metadata": {
  "kernelspec": {
   "language": "python",
   "display_name": "Python 3",
   "name": "python3"
  },
  "language_info": {
   "name": "python",
   "version": "3.10.12",
   "mimetype": "text/x-python",
   "codemirror_mode": {
    "name": "ipython",
    "version": 3
   },
   "pygments_lexer": "ipython3",
   "nbconvert_exporter": "python",
   "file_extension": ".py"
  },
  "kaggle": {
   "accelerator": "none",
   "dataSources": [
    {
     "sourceId": 5615053,
     "sourceType": "datasetVersion",
     "datasetId": 3229051
    }
   ],
   "dockerImageVersionId": 30527,
   "isInternetEnabled": true,
   "language": "python",
   "sourceType": "notebook",
   "isGpuEnabled": false
  }
 },
 "nbformat_minor": 4,
 "nbformat": 4,
 "cells": [
  {
   "cell_type": "code",
   "source": [
    "import pandas as pd \n",
    "import numpy as np \n",
    "import matplotlib.pyplot as plt \n",
    "import seaborn as sns \n",
    "from scipy import stats\n",
    "from matplotlib.dates import * \n",
    "from matplotlib.ticker import * \n",
    "from sklearn import metrics \n",
    "from sklearn.model_selection import train_test_split\n",
    "from sklearn.linear_model import LinearRegression\n",
    "from sklearn.preprocessing import MinMaxScaler\n",
    "from sklearn.model_selection import cross_val_score"
   ],
   "metadata": {
    "execution": {
     "iopub.status.busy": "2023-08-31T01:39:55.220957Z",
     "iopub.execute_input": "2023-08-31T01:39:55.221449Z",
     "iopub.status.idle": "2023-08-31T01:39:56.513423Z",
     "shell.execute_reply.started": "2023-08-31T01:39:55.22141Z",
     "shell.execute_reply": "2023-08-31T01:39:56.512129Z"
    },
    "trusted": true
   },
   "execution_count": null,
   "outputs": []
  },
  {
   "cell_type": "code",
   "source": [
    "ds=pd.read_csv('/kaggle/input/car-data/cardata.csv')\n",
    "df=pd.DataFrame(ds)\n",
    "df"
   ],
   "metadata": {
    "execution": {
     "iopub.status.busy": "2023-08-31T01:39:56.519887Z",
     "iopub.execute_input": "2023-08-31T01:39:56.52092Z",
     "iopub.status.idle": "2023-08-31T01:39:56.583227Z",
     "shell.execute_reply.started": "2023-08-31T01:39:56.520872Z",
     "shell.execute_reply": "2023-08-31T01:39:56.582395Z"
    },
    "trusted": true
   },
   "execution_count": null,
   "outputs": []
  },
  {
   "cell_type": "code",
   "source": [
    "df.describe()"
   ],
   "metadata": {
    "execution": {
     "iopub.status.busy": "2023-08-31T01:39:56.584449Z",
     "iopub.execute_input": "2023-08-31T01:39:56.584964Z",
     "iopub.status.idle": "2023-08-31T01:39:56.61618Z",
     "shell.execute_reply.started": "2023-08-31T01:39:56.584934Z",
     "shell.execute_reply": "2023-08-31T01:39:56.61483Z"
    },
    "trusted": true
   },
   "execution_count": null,
   "outputs": []
  },
  {
   "cell_type": "code",
   "source": [
    "# now we change year column with age of car which is 2019-year which shows how old is the car \n",
    "df['Year']=df.Year.apply(lambda x : max(df.Year)+1-x)\n",
    "df.rename(columns={'Year':'Age'},inplace=True)\n",
    "df"
   ],
   "metadata": {
    "execution": {
     "iopub.status.busy": "2023-08-31T01:39:56.618644Z",
     "iopub.execute_input": "2023-08-31T01:39:56.61941Z",
     "iopub.status.idle": "2023-08-31T01:39:56.665725Z",
     "shell.execute_reply.started": "2023-08-31T01:39:56.619376Z",
     "shell.execute_reply": "2023-08-31T01:39:56.664567Z"
    },
    "trusted": true
   },
   "execution_count": null,
   "outputs": []
  },
  {
   "cell_type": "code",
   "source": [
    "plt.figure(figsize=(10,8))\n",
    "sns.scatterplot(x='Present_Price',y='Selling_Price',data=df)"
   ],
   "metadata": {
    "execution": {
     "iopub.status.busy": "2023-08-31T01:39:56.667287Z",
     "iopub.execute_input": "2023-08-31T01:39:56.668278Z",
     "iopub.status.idle": "2023-08-31T01:39:57.054296Z",
     "shell.execute_reply.started": "2023-08-31T01:39:56.668233Z",
     "shell.execute_reply": "2023-08-31T01:39:57.053146Z"
    },
    "trusted": true
   },
   "execution_count": null,
   "outputs": []
  },
  {
   "cell_type": "code",
   "source": [
    "# we can discover from chart above that one data is far distant from others \n",
    "# and there is a very huge difference between its present price so its and outlier"
   ],
   "metadata": {
    "execution": {
     "iopub.status.busy": "2023-08-31T01:39:57.056169Z",
     "iopub.execute_input": "2023-08-31T01:39:57.05693Z",
     "iopub.status.idle": "2023-08-31T01:39:57.06155Z",
     "shell.execute_reply.started": "2023-08-31T01:39:57.056884Z",
     "shell.execute_reply": "2023-08-31T01:39:57.060418Z"
    },
    "trusted": true
   },
   "execution_count": null,
   "outputs": []
  },
  {
   "cell_type": "code",
   "source": [
    "df[df['Selling_Price']>30]"
   ],
   "metadata": {
    "execution": {
     "iopub.status.busy": "2023-08-31T01:39:57.063286Z",
     "iopub.execute_input": "2023-08-31T01:39:57.064003Z",
     "iopub.status.idle": "2023-08-31T01:39:57.086805Z",
     "shell.execute_reply.started": "2023-08-31T01:39:57.063958Z",
     "shell.execute_reply": "2023-08-31T01:39:57.085548Z"
    },
    "trusted": true
   },
   "execution_count": null,
   "outputs": []
  },
  {
   "cell_type": "code",
   "source": [
    "#we remove this from this from our linear model beacuse its an outlier \n",
    "df.drop([86],inplace=True)"
   ],
   "metadata": {
    "execution": {
     "iopub.status.busy": "2023-08-31T01:39:57.089548Z",
     "iopub.execute_input": "2023-08-31T01:39:57.090805Z",
     "iopub.status.idle": "2023-08-31T01:39:57.102702Z",
     "shell.execute_reply.started": "2023-08-31T01:39:57.090754Z",
     "shell.execute_reply": "2023-08-31T01:39:57.10122Z"
    },
    "trusted": true
   },
   "execution_count": null,
   "outputs": []
  },
  {
   "cell_type": "code",
   "source": [
    "plt.figure(figsize=(10,8))\n",
    "sns.scatterplot(x='Kms_Driven',y='Selling_Price',data=df)"
   ],
   "metadata": {
    "execution": {
     "iopub.status.busy": "2023-08-31T01:39:57.104328Z",
     "iopub.execute_input": "2023-08-31T01:39:57.104952Z",
     "iopub.status.idle": "2023-08-31T01:39:57.454631Z",
     "shell.execute_reply.started": "2023-08-31T01:39:57.104907Z",
     "shell.execute_reply": "2023-08-31T01:39:57.453564Z"
    },
    "trusted": true
   },
   "execution_count": null,
   "outputs": []
  },
  {
   "cell_type": "code",
   "source": [
    "#we can see from chart above that there is one data far distant from others\n",
    "#most of the kms driven values are in rage (0,200000) but there is one data wiht 500000 kms driven value \n",
    "#so this is again an outlier so we have to remove this from our linear model "
   ],
   "metadata": {
    "execution": {
     "iopub.status.busy": "2023-08-31T01:39:57.459052Z",
     "iopub.execute_input": "2023-08-31T01:39:57.459412Z",
     "iopub.status.idle": "2023-08-31T01:39:57.46394Z",
     "shell.execute_reply.started": "2023-08-31T01:39:57.459382Z",
     "shell.execute_reply": "2023-08-31T01:39:57.462902Z"
    },
    "trusted": true
   },
   "execution_count": null,
   "outputs": []
  },
  {
   "cell_type": "code",
   "source": [
    "df[df['Kms_Driven']>400000]"
   ],
   "metadata": {
    "execution": {
     "iopub.status.busy": "2023-08-31T01:39:57.465278Z",
     "iopub.execute_input": "2023-08-31T01:39:57.46564Z",
     "iopub.status.idle": "2023-08-31T01:39:57.489126Z",
     "shell.execute_reply.started": "2023-08-31T01:39:57.465609Z",
     "shell.execute_reply": "2023-08-31T01:39:57.487881Z"
    },
    "trusted": true
   },
   "execution_count": null,
   "outputs": []
  },
  {
   "cell_type": "code",
   "source": [
    "df.drop(196,inplace=True)"
   ],
   "metadata": {
    "execution": {
     "iopub.status.busy": "2023-08-31T01:39:57.490734Z",
     "iopub.execute_input": "2023-08-31T01:39:57.491186Z",
     "iopub.status.idle": "2023-08-31T01:39:57.504864Z",
     "shell.execute_reply.started": "2023-08-31T01:39:57.491139Z",
     "shell.execute_reply": "2023-08-31T01:39:57.503778Z"
    },
    "trusted": true
   },
   "execution_count": null,
   "outputs": []
  },
  {
   "cell_type": "code",
   "source": [
    "plt.figure(figsize=(10,8))\n",
    "sns.scatterplot(x='Kms_Driven',y='Selling_Price',data=df)"
   ],
   "metadata": {
    "execution": {
     "iopub.status.busy": "2023-08-31T01:39:57.506616Z",
     "iopub.execute_input": "2023-08-31T01:39:57.5073Z",
     "iopub.status.idle": "2023-08-31T01:39:57.858409Z",
     "shell.execute_reply.started": "2023-08-31T01:39:57.507265Z",
     "shell.execute_reply": "2023-08-31T01:39:57.857076Z"
    },
    "trusted": true
   },
   "execution_count": null,
   "outputs": []
  },
  {
   "cell_type": "code",
   "source": [
    "plt.figure(figsize=(10,8))\n",
    "plt.plot(list(sorted(df['Kms_Driven'])),df['Selling_Price'],color='blue')\n",
    "plt.xlabel('Kms_Driven')\n",
    "plt.ylabel('Selling_Price')\n",
    "plt.grid()"
   ],
   "metadata": {
    "execution": {
     "iopub.status.busy": "2023-08-31T01:39:57.860703Z",
     "iopub.execute_input": "2023-08-31T01:39:57.861159Z",
     "iopub.status.idle": "2023-08-31T01:39:58.216104Z",
     "shell.execute_reply.started": "2023-08-31T01:39:57.861117Z",
     "shell.execute_reply": "2023-08-31T01:39:58.214787Z"
    },
    "trusted": true
   },
   "execution_count": null,
   "outputs": []
  },
  {
   "cell_type": "code",
   "source": [
    "# we can discover from chart above  that the form of kms driven values and selling price is sinusoidal\n",
    "# this will help us in our linear model"
   ],
   "metadata": {
    "execution": {
     "iopub.status.busy": "2023-08-31T01:39:58.21739Z",
     "iopub.execute_input": "2023-08-31T01:39:58.217731Z",
     "iopub.status.idle": "2023-08-31T01:39:58.223334Z",
     "shell.execute_reply.started": "2023-08-31T01:39:58.217702Z",
     "shell.execute_reply": "2023-08-31T01:39:58.222005Z"
    },
    "trusted": true
   },
   "execution_count": null,
   "outputs": []
  },
  {
   "cell_type": "code",
   "source": [
    "plt.figure(figsize=(10,8))\n",
    "sns.scatterplot(x='Present_Price',y='Selling_Price',data=df,hue='Fuel_Type')"
   ],
   "metadata": {
    "execution": {
     "iopub.status.busy": "2023-08-31T01:39:58.224745Z",
     "iopub.execute_input": "2023-08-31T01:39:58.225109Z",
     "iopub.status.idle": "2023-08-31T01:39:58.734028Z",
     "shell.execute_reply.started": "2023-08-31T01:39:58.22508Z",
     "shell.execute_reply": "2023-08-31T01:39:58.732859Z"
    },
    "trusted": true
   },
   "execution_count": null,
   "outputs": []
  },
  {
   "cell_type": "code",
   "source": [
    "# from chart above we can discover diesel cars price are higher than petrol cars \n"
   ],
   "metadata": {
    "execution": {
     "iopub.status.busy": "2023-08-31T01:39:58.735421Z",
     "iopub.execute_input": "2023-08-31T01:39:58.735799Z",
     "iopub.status.idle": "2023-08-31T01:39:58.740679Z",
     "shell.execute_reply.started": "2023-08-31T01:39:58.735767Z",
     "shell.execute_reply": "2023-08-31T01:39:58.739544Z"
    },
    "trusted": true
   },
   "execution_count": null,
   "outputs": []
  },
  {
   "cell_type": "code",
   "source": [
    "plt.figure(figsize=(10,8))\n",
    "sns.scatterplot(x='Present_Price',y='Selling_Price',data=df,hue='Seller_Type')"
   ],
   "metadata": {
    "execution": {
     "iopub.status.busy": "2023-08-31T01:39:58.742195Z",
     "iopub.execute_input": "2023-08-31T01:39:58.742559Z",
     "iopub.status.idle": "2023-08-31T01:39:59.216902Z",
     "shell.execute_reply.started": "2023-08-31T01:39:58.742516Z",
     "shell.execute_reply": "2023-08-31T01:39:59.215732Z"
    },
    "trusted": true
   },
   "execution_count": null,
   "outputs": []
  },
  {
   "cell_type": "code",
   "source": [
    "# we can discover from chart above that cars with seller type dealer are more expensive than \n",
    "# individual seller type "
   ],
   "metadata": {
    "execution": {
     "iopub.status.busy": "2023-08-31T01:39:59.218455Z",
     "iopub.execute_input": "2023-08-31T01:39:59.218852Z",
     "iopub.status.idle": "2023-08-31T01:39:59.224647Z",
     "shell.execute_reply.started": "2023-08-31T01:39:59.218819Z",
     "shell.execute_reply": "2023-08-31T01:39:59.223105Z"
    },
    "trusted": true
   },
   "execution_count": null,
   "outputs": []
  },
  {
   "cell_type": "code",
   "source": [
    "plt.figure(figsize=(10,8))\n",
    "sns.scatterplot(x='Present_Price',y='Selling_Price',data=df,hue='Transmission')"
   ],
   "metadata": {
    "execution": {
     "iopub.status.busy": "2023-08-31T01:39:59.226182Z",
     "iopub.execute_input": "2023-08-31T01:39:59.226568Z",
     "iopub.status.idle": "2023-08-31T01:39:59.715139Z",
     "shell.execute_reply.started": "2023-08-31T01:39:59.226533Z",
     "shell.execute_reply": "2023-08-31T01:39:59.713872Z"
    },
    "trusted": true
   },
   "execution_count": null,
   "outputs": []
  },
  {
   "cell_type": "code",
   "source": [
    "# we can disvoer from chart above that automatic cars are more expensive than manual cars "
   ],
   "metadata": {
    "execution": {
     "iopub.status.busy": "2023-08-31T01:39:59.716512Z",
     "iopub.execute_input": "2023-08-31T01:39:59.716832Z",
     "iopub.status.idle": "2023-08-31T01:39:59.722457Z",
     "shell.execute_reply.started": "2023-08-31T01:39:59.716803Z",
     "shell.execute_reply": "2023-08-31T01:39:59.721235Z"
    },
    "trusted": true
   },
   "execution_count": null,
   "outputs": []
  },
  {
   "cell_type": "code",
   "source": [
    "plt.figure(figsize=(10,8))\n",
    "sns.scatterplot(x='Present_Price',y='Selling_Price',data=df,hue=df['Owner'],)"
   ],
   "metadata": {
    "execution": {
     "iopub.status.busy": "2023-08-31T01:39:59.724198Z",
     "iopub.execute_input": "2023-08-31T01:39:59.725078Z",
     "iopub.status.idle": "2023-08-31T01:40:00.269667Z",
     "shell.execute_reply.started": "2023-08-31T01:39:59.725043Z",
     "shell.execute_reply": "2023-08-31T01:40:00.267995Z"
    },
    "trusted": true
   },
   "execution_count": null,
   "outputs": []
  },
  {
   "cell_type": "code",
   "source": [
    "plt.figure(figsize=(10,8))\n",
    "sns.histplot(x='Fuel_Type',y='Selling_Price',data=df)"
   ],
   "metadata": {
    "execution": {
     "iopub.status.busy": "2023-08-31T01:40:00.271354Z",
     "iopub.execute_input": "2023-08-31T01:40:00.271729Z",
     "iopub.status.idle": "2023-08-31T01:40:00.582593Z",
     "shell.execute_reply.started": "2023-08-31T01:40:00.271697Z",
     "shell.execute_reply": "2023-08-31T01:40:00.581346Z"
    },
    "trusted": true
   },
   "execution_count": null,
   "outputs": []
  },
  {
   "cell_type": "code",
   "source": [
    "plt.figure(figsize=(10,8))\n",
    "sns.histplot(x='Seller_Type',y='Selling_Price',data=df)"
   ],
   "metadata": {
    "execution": {
     "iopub.status.busy": "2023-08-31T01:40:00.584104Z",
     "iopub.execute_input": "2023-08-31T01:40:00.584433Z",
     "iopub.status.idle": "2023-08-31T01:40:01.077405Z",
     "shell.execute_reply.started": "2023-08-31T01:40:00.584404Z",
     "shell.execute_reply": "2023-08-31T01:40:01.075974Z"
    },
    "trusted": true
   },
   "execution_count": null,
   "outputs": []
  },
  {
   "cell_type": "code",
   "source": [
    "plt.figure(figsize=(10,8))\n",
    "sns.histplot(x='Transmission',y='Selling_Price',data=df)"
   ],
   "metadata": {
    "scrolled": true,
    "execution": {
     "iopub.status.busy": "2023-08-31T01:40:01.079649Z",
     "iopub.execute_input": "2023-08-31T01:40:01.080325Z",
     "iopub.status.idle": "2023-08-31T01:40:01.318543Z",
     "shell.execute_reply.started": "2023-08-31T01:40:01.080275Z",
     "shell.execute_reply": "2023-08-31T01:40:01.317362Z"
    },
    "trusted": true
   },
   "execution_count": null,
   "outputs": []
  },
  {
   "cell_type": "code",
   "source": [
    "#now we need to convert categorical features to numerical\n",
    "#numbers of categorical feature are given in a sort that shows the positive effect of that feature on\n",
    "#on target for example in feature fuel type because diesel car prices are higher we give disel the\n",
    "#highest number and beacuse the avg price of cng and petrol cars are similar but petrol is higher we\n",
    "#give petrol number 1 and CNG 0.8 \n",
    "# because cars which seller type is more expensive than cars which their seller type is individual we \n",
    "# give individual 1 and dealer 2 \n",
    "# because automatic cars are more expensive than manual cars we give automatic 2 and manual 1 \n",
    "a={\"Petrol\":1,\"CNG\":0.8,\"Diesel\":2}\n",
    "b={\"Dealer\":2,\"Individual\":1}\n",
    "c={\"Manual\":1,\"Automatic\":2}\n",
    "df['Fuel_Type'].replace(a,inplace=True)\n",
    "df['Seller_Type'].replace(b,inplace=True)\n",
    "df['Transmission'].replace(c,inplace=True)"
   ],
   "metadata": {
    "execution": {
     "iopub.status.busy": "2023-08-31T01:40:01.320019Z",
     "iopub.execute_input": "2023-08-31T01:40:01.320485Z",
     "iopub.status.idle": "2023-08-31T01:40:01.334279Z",
     "shell.execute_reply.started": "2023-08-31T01:40:01.320428Z",
     "shell.execute_reply": "2023-08-31T01:40:01.333129Z"
    },
    "trusted": true
   },
   "execution_count": null,
   "outputs": []
  },
  {
   "cell_type": "code",
   "source": [
    "#now we see the correlation of our features with target wich is selling price \n",
    "sns.heatmap(df.corr()[['Selling_Price']].sort_values(by='Selling_Price', ascending=False), annot = True,cmap='RdBu', vmin=-1, vmax=1)\n",
    "plt.tight_layout()"
   ],
   "metadata": {
    "execution": {
     "iopub.status.busy": "2023-08-31T01:40:01.335778Z",
     "iopub.execute_input": "2023-08-31T01:40:01.336151Z",
     "iopub.status.idle": "2023-08-31T01:40:01.8331Z",
     "shell.execute_reply.started": "2023-08-31T01:40:01.336121Z",
     "shell.execute_reply": "2023-08-31T01:40:01.831911Z"
    },
    "trusted": true
   },
   "execution_count": null,
   "outputs": []
  },
  {
   "cell_type": "code",
   "source": [
    "# from correlation heat map we can conclude that present price has a direct effect on target and its \n",
    "# the most important feature.we can also see that age has a negative effect on target so the more the\n",
    "# age of car the less the price gonna be "
   ],
   "metadata": {
    "execution": {
     "iopub.status.busy": "2023-08-31T01:40:01.839837Z",
     "iopub.execute_input": "2023-08-31T01:40:01.840225Z",
     "iopub.status.idle": "2023-08-31T01:40:01.844649Z",
     "shell.execute_reply.started": "2023-08-31T01:40:01.840192Z",
     "shell.execute_reply": "2023-08-31T01:40:01.843699Z"
    },
    "trusted": true
   },
   "execution_count": null,
   "outputs": []
  },
  {
   "cell_type": "code",
   "source": [
    "# now we add 2 features (Dot features and sin kms driven )\n",
    "# dot features is merge of our categorical features and its value is multiply of features 'Fuel_Type',\n",
    "# 'Seller_Type' and 'Transmission'. the logic behind this is that when car fuel type is diesel for example \n",
    "# the price is higher than when its petrol and if the car trasmisson is automatic the pirce is higher\n",
    "# than when the transmisson is manual,but what if one car is both diesel and aoutomatic and the other \n",
    "# car is both manuual and petrol. in this case difference between this 2 cars prices are gonna be \n",
    "# higher than when comapring one feature with another so it would have an additional effect.\n",
    "# now by adding dot features we can show these additonal differences becuse when one car is petrol,\n",
    "# differences becuse when one cars fuel type is petrol,seller type is individual and transmisson is \n",
    "# manual dot features value is 1 but when cars fuel type is diesel,seeler type is dealer and transmission \n",
    "# is automatic the dot features value is 8 which shows the effect those 3 features at the same time to \n",
    "# cover the addditonal difference.\n",
    "# we add sin kms driven to our model because we saw above that form of kms driven and taget values\n",
    "# was sinusoidal\n",
    "df2=df.copy()\n",
    "a=list(zip(df['Fuel_Type'],df['Seller_Type'],df['Transmission']))\n",
    "b=[]\n",
    "for items in a : \n",
    "    z=1 \n",
    "    for i in items :\n",
    "        z=z*i \n",
    "    b.append(z)\n",
    "df2['dot features ']= b \n",
    "df2['sin kms drive']=df2['Kms_Driven'].apply(lambda x : np.sin(np.pi * x))"
   ],
   "metadata": {
    "execution": {
     "iopub.status.busy": "2023-08-31T01:40:01.846643Z",
     "iopub.execute_input": "2023-08-31T01:40:01.847105Z",
     "iopub.status.idle": "2023-08-31T01:40:01.865119Z",
     "shell.execute_reply.started": "2023-08-31T01:40:01.847063Z",
     "shell.execute_reply": "2023-08-31T01:40:01.863888Z"
    },
    "trusted": true
   },
   "execution_count": null,
   "outputs": []
  },
  {
   "cell_type": "code",
   "source": [
    "# now we normalize our features and scale them is range (0,1)\n",
    "# the code commented can also be used to normalize our features \n",
    "# we also change the oder of oure feayres and put taget in last column of datafran \\\n",
    "# we also remove car name column from our linear model \n",
    "\n",
    "# scaler=MinMaxScaler(feature_range=(0,1))\n",
    "# df2=pd.DataFrame(df2,columns=['Age', 'Present_Price', 'Kms_Driven',\n",
    "#        'Fuel_Type', 'Seller_Type', 'Transmission', 'Owner', 'dot features ',\n",
    "#        'sin kms drive','Selling_Price'])\n",
    "# df2[['Age', 'Present_Price', 'Kms_Driven',\n",
    "#        'Fuel_Type', 'Seller_Type', 'Transmission', 'Owner', 'dot features ',\n",
    "#        'sin kms drive']]=scaler.fit_transform(df2[['Age', 'Present_Price', 'Kms_Driven',\n",
    "#        'Fuel_Type', 'Seller_Type', 'Transmission', 'Owner', 'dot features ',\n",
    "#        'sin kms drive']].values)\n",
    "\n",
    "scaler=MinMaxScaler()\n",
    "c=list(df2.columns)\n",
    "c.remove('Selling_Price')\n",
    "c.remove('Car_Name')\n",
    "for items in c : \n",
    "    a=np.array(df2[items])\n",
    "    a=a.reshape(-1,1)\n",
    "    scaler.fit(a)\n",
    "    a=scaler.transform(a)\n",
    "    df2[items]=a\n",
    "df2"
   ],
   "metadata": {
    "execution": {
     "iopub.status.busy": "2023-08-31T01:40:01.866786Z",
     "iopub.execute_input": "2023-08-31T01:40:01.867784Z",
     "iopub.status.idle": "2023-08-31T01:40:01.934276Z",
     "shell.execute_reply.started": "2023-08-31T01:40:01.867744Z",
     "shell.execute_reply": "2023-08-31T01:40:01.93305Z"
    },
    "trusted": true
   },
   "execution_count": null,
   "outputs": []
  },
  {
   "cell_type": "code",
   "source": [
    "# now we define x,y to use them further ahead in linear regression model \n",
    "x=pd.DataFrame(df2,columns=['Age', 'Present_Price', 'Kms_Driven',\n",
    "       'Fuel_Type', 'Seller_Type', 'Transmission', 'Owner', 'dot features ','sin kms drive'])\n",
    "y=df2['Selling_Price']"
   ],
   "metadata": {
    "execution": {
     "iopub.status.busy": "2023-08-31T01:40:01.936228Z",
     "iopub.execute_input": "2023-08-31T01:40:01.936713Z",
     "iopub.status.idle": "2023-08-31T01:40:01.94534Z",
     "shell.execute_reply.started": "2023-08-31T01:40:01.93667Z",
     "shell.execute_reply": "2023-08-31T01:40:01.944022Z"
    },
    "trusted": true
   },
   "execution_count": null,
   "outputs": []
  },
  {
   "cell_type": "code",
   "source": [
    "# because our target is price which cannot have a minus value,we use inheritance and method overriding \n",
    "# to change predict values to 0 when they are minus \n",
    "class LinearRegression(LinearRegression):\n",
    "        def __init__(self):\n",
    "                super().__init__()\n",
    "        def predict(self,b):\n",
    "                a=super().predict(b)\n",
    "                for items in enumerate(a):\n",
    "                        if items[1]<0:\n",
    "                                a[items[0]]=0\n",
    "                return a"
   ],
   "metadata": {
    "execution": {
     "iopub.status.busy": "2023-08-31T01:40:01.950003Z",
     "iopub.execute_input": "2023-08-31T01:40:01.950443Z",
     "iopub.status.idle": "2023-08-31T01:40:01.9608Z",
     "shell.execute_reply.started": "2023-08-31T01:40:01.950408Z",
     "shell.execute_reply": "2023-08-31T01:40:01.95914Z"
    },
    "trusted": true
   },
   "execution_count": null,
   "outputs": []
  },
  {
   "cell_type": "code",
   "source": [
    "# now we use train test split to define x_train and y_train to fit and train the model with them and\n",
    "# evaluate the model whith x_test and Y_test further \n",
    "X_train, X_test, y_train, y_test = train_test_split(x, y, random_state=0,test_size=0.1)\n",
    "regressor=LinearRegression()\n",
    "regressor.fit(X_train,y_train)\n",
    "print(regressor.feature_names_in_)\n",
    "print(regressor.coef_)"
   ],
   "metadata": {
    "execution": {
     "iopub.status.busy": "2023-08-31T01:40:01.963678Z",
     "iopub.execute_input": "2023-08-31T01:40:01.964233Z",
     "iopub.status.idle": "2023-08-31T01:40:02.00388Z",
     "shell.execute_reply.started": "2023-08-31T01:40:01.964183Z",
     "shell.execute_reply": "2023-08-31T01:40:02.002966Z"
    },
    "trusted": true
   },
   "execution_count": null,
   "outputs": []
  },
  {
   "cell_type": "code",
   "source": [
    "# now we predict the x_test values to see our model performance \n",
    "y_pred=regressor.predict(X_test)\n",
    "y_pred"
   ],
   "metadata": {
    "execution": {
     "iopub.status.busy": "2023-08-31T01:40:02.005255Z",
     "iopub.execute_input": "2023-08-31T01:40:02.006205Z",
     "iopub.status.idle": "2023-08-31T01:40:02.017236Z",
     "shell.execute_reply.started": "2023-08-31T01:40:02.006168Z",
     "shell.execute_reply": "2023-08-31T01:40:02.015959Z"
    },
    "trusted": true
   },
   "execution_count": null,
   "outputs": []
  },
  {
   "cell_type": "code",
   "source": [
    "scores = cross_val_score(regressor, X_test, y_test, cv=10)\n",
    "scores"
   ],
   "metadata": {
    "execution": {
     "iopub.status.busy": "2023-08-31T01:40:02.019199Z",
     "iopub.execute_input": "2023-08-31T01:40:02.019573Z",
     "iopub.status.idle": "2023-08-31T01:40:02.092388Z",
     "shell.execute_reply.started": "2023-08-31T01:40:02.019541Z",
     "shell.execute_reply": "2023-08-31T01:40:02.091374Z"
    },
    "trusted": true
   },
   "execution_count": null,
   "outputs": []
  },
  {
   "cell_type": "code",
   "source": [
    "print(metrics.mean_squared_error(y_test, y_pred))\n",
    "print(metrics.r2_score(y_test, y_pred)*100)"
   ],
   "metadata": {
    "execution": {
     "iopub.status.busy": "2023-08-31T01:40:02.094685Z",
     "iopub.execute_input": "2023-08-31T01:40:02.095054Z",
     "iopub.status.idle": "2023-08-31T01:40:02.107511Z",
     "shell.execute_reply.started": "2023-08-31T01:40:02.095023Z",
     "shell.execute_reply": "2023-08-31T01:40:02.10648Z"
    },
    "trusted": true
   },
   "execution_count": null,
   "outputs": []
  },
  {
   "cell_type": "code",
   "source": [
    "# we can see that our r2score is pretty much good lets see the scatter plot of x_test with \n",
    "# both y_test bad y_pred in 2 features present price and kms driven"
   ],
   "metadata": {
    "execution": {
     "iopub.status.busy": "2023-08-31T01:40:02.108843Z",
     "iopub.execute_input": "2023-08-31T01:40:02.109208Z",
     "iopub.status.idle": "2023-08-31T01:40:02.121311Z",
     "shell.execute_reply.started": "2023-08-31T01:40:02.109178Z",
     "shell.execute_reply": "2023-08-31T01:40:02.120425Z"
    },
    "trusted": true
   },
   "execution_count": null,
   "outputs": []
  },
  {
   "cell_type": "code",
   "source": [
    "plt.figure(figsize=(10,8))\n",
    "plt.scatter(X_test['Present_Price'],y_test,color='blue')\n",
    "plt.scatter(X_test['Present_Price'],y_pred,color='red')\n",
    "plt.legend(['True','Pred'])\n",
    "plt.xlabel('present price ')\n",
    "plt.ylabel('selling price')\n",
    "plt.title('model evaluation (graph)')\n",
    "plt.grid()"
   ],
   "metadata": {
    "execution": {
     "iopub.status.busy": "2023-08-31T01:40:02.123024Z",
     "iopub.execute_input": "2023-08-31T01:40:02.123484Z",
     "iopub.status.idle": "2023-08-31T01:40:02.590904Z",
     "shell.execute_reply.started": "2023-08-31T01:40:02.123441Z",
     "shell.execute_reply": "2023-08-31T01:40:02.589724Z"
    },
    "trusted": true
   },
   "execution_count": null,
   "outputs": []
  },
  {
   "cell_type": "code",
   "source": [
    "plt.figure(figsize=(10,8))\n",
    "plt.scatter(X_test['Kms_Driven'],y_test,color='blue')\n",
    "plt.scatter(X_test['Kms_Driven'],y_pred,color='red')\n",
    "plt.legend(['True','Pred'])\n",
    "plt.xlabel('present price ')\n",
    "plt.ylabel('seeling price')\n",
    "plt.title('model evaluation (graph)')\n",
    "plt.grid()"
   ],
   "metadata": {
    "execution": {
     "iopub.status.busy": "2023-08-31T01:40:02.59228Z",
     "iopub.execute_input": "2023-08-31T01:40:02.592644Z",
     "iopub.status.idle": "2023-08-31T01:40:03.068289Z",
     "shell.execute_reply.started": "2023-08-31T01:40:02.592612Z",
     "shell.execute_reply": "2023-08-31T01:40:03.06665Z"
    },
    "trusted": true
   },
   "execution_count": null,
   "outputs": []
  },
  {
   "cell_type": "code",
   "source": [
    "# from charts above and r2score we can conclude that our model performance is good is all that left \n",
    "# is trann all data with our model to precit the given input of featues values "
   ],
   "metadata": {
    "execution": {
     "iopub.status.busy": "2023-08-31T01:40:03.070073Z",
     "iopub.execute_input": "2023-08-31T01:40:03.070452Z",
     "iopub.status.idle": "2023-08-31T01:40:03.075515Z",
     "shell.execute_reply.started": "2023-08-31T01:40:03.070418Z",
     "shell.execute_reply": "2023-08-31T01:40:03.073991Z"
    },
    "trusted": true
   },
   "execution_count": null,
   "outputs": []
  },
  {
   "cell_type": "code",
   "source": [
    "###########################################################final result#####################################################"
   ],
   "metadata": {
    "execution": {
     "iopub.status.busy": "2023-08-31T01:40:03.077523Z",
     "iopub.execute_input": "2023-08-31T01:40:03.0779Z",
     "iopub.status.idle": "2023-08-31T01:40:03.092256Z",
     "shell.execute_reply.started": "2023-08-31T01:40:03.077871Z",
     "shell.execute_reply": "2023-08-31T01:40:03.090939Z"
    },
    "trusted": true
   },
   "execution_count": null,
   "outputs": []
  },
  {
   "cell_type": "code",
   "source": [
    "# this function will append the input row in df then after normalization predict anf give you the \n",
    "# price of car \n",
    "def f():\n",
    "    '''this funtion is used to predict price of cars givens its features from user input'''\n",
    "    ds=pd.read_csv('/kaggle/input/car-data/cardata.csv')\n",
    "    df=pd.DataFrame(ds)\n",
    "    #changing year column and add age column \n",
    "    df['Year']=df.Year.apply(lambda x : max(df.Year)+1-x)\n",
    "    df.rename(columns={'Year':'Age'},inplace=True)\n",
    "    df.drop('Car_Name',axis=1,inplace=True)\n",
    "    df.drop([86,196],inplace=True)\n",
    "    \n",
    "    #appending input data to dataframe \n",
    "    df=df.append(pd.DataFrame([[x1,0,x2,x3,x4,x5,x6,x7]],columns=df.columns,index=[max(df.index)+1]))\n",
    "    \n",
    "    #converting categorical features into numerical \n",
    "    a={\"Petrol\":1,\"CNG\":0.8,\"Diesel\":2}\n",
    "    b={\"Dealer\":2,\"Individual\":1}\n",
    "    c={\"Manual\":1,\"Automatic\":2}\n",
    "    df['Fuel_Type'].replace(a,inplace=True)\n",
    "    df['Seller_Type'].replace(b,inplace=True)\n",
    "    df['Transmission'].replace(c,inplace=True)\n",
    "    \n",
    "    # add two features (dot features and sin kms ) to datraframe to use in eguation of linear regression \n",
    "    df2=df.copy()\n",
    "    a=list(zip(df['Fuel_Type'],df['Seller_Type'],df['Transmission']))\n",
    "    b=[]\n",
    "    for items in a : \n",
    "        z=1 \n",
    "        for i in items :\n",
    "            z=z*i \n",
    "        b.append(z)\n",
    "    df2['dot features']= b \n",
    "    df2['sin kms driven']=df2['Kms_Driven'].apply(lambda x : np.sin(np.pi * x))\n",
    "    \n",
    "    #list of features \n",
    "    c=list(df2.columns)\n",
    "    c.remove('Selling_Price')\n",
    "    \n",
    "    #normalizing features (scale range (0,1))\n",
    "    scaler=MinMaxScaler()\n",
    "    for items in c:\n",
    "            b=np.array(df2[items])\n",
    "            b=b.reshape(-1,1)\n",
    "            scaler.fit(b)\n",
    "            b=scaler.transform(b)\n",
    "            df2[items]=b\n",
    "    \n",
    "    #save last row of dataframe whch is normalized input data in variable a and remove that row from dataframe \n",
    "    a=list(df2[df2.index==max(df.index)].values[0])\n",
    "    a.remove(a[1])\n",
    "    df2=df2[df2.index<max(df.index)]\n",
    "    \n",
    "    # define x and y and train the model\n",
    "    x=df2[c]\n",
    "    y=df2['Selling_Price']\n",
    "    regressor=LinearRegression()\n",
    "    regressor.fit(x,y)\n",
    "    \n",
    "    # reshape the arraye of normalized input values and then predict them \n",
    "    a=np.array(a).reshape(1,-1)\n",
    "    y_pred=regressor.predict(a)\n",
    "    \n",
    "    \n",
    "    return y_pred"
   ],
   "metadata": {
    "execution": {
     "iopub.status.busy": "2023-08-31T01:40:03.094057Z",
     "iopub.execute_input": "2023-08-31T01:40:03.094896Z",
     "iopub.status.idle": "2023-08-31T01:40:03.113396Z",
     "shell.execute_reply.started": "2023-08-31T01:40:03.094854Z",
     "shell.execute_reply": "2023-08-31T01:40:03.111781Z"
    },
    "trusted": true
   },
   "execution_count": null,
   "outputs": []
  },
  {
   "cell_type": "code",
   "source": [
    "# x1=float(input('Age: ')) #10\n",
    "# x2=float(input('Present Price: '))  #11.23\n",
    "# x3=float(input('KMS Driven: '))  #42000\n",
    "# x4=input('Fuel Type: ')  #Petrol\n",
    "# x5=input('Seller Type: ')  #Dealer\n",
    "# x6=input('Transmisson: ') #Manual\n",
    "# x7=float(input('Owner: '))  #1\n",
    "x1=10\n",
    "x2=11.23 \n",
    "x3=42000\n",
    "x4='Petrol'\n",
    "x5='Dealer'\n",
    "x6='Manual'\n",
    "x7=1"
   ],
   "metadata": {
    "execution": {
     "iopub.status.busy": "2023-08-31T01:40:03.11512Z",
     "iopub.execute_input": "2023-08-31T01:40:03.11592Z",
     "iopub.status.idle": "2023-08-31T01:40:03.137362Z",
     "shell.execute_reply.started": "2023-08-31T01:40:03.115884Z",
     "shell.execute_reply": "2023-08-31T01:40:03.136088Z"
    },
    "trusted": true
   },
   "execution_count": null,
   "outputs": []
  },
  {
   "cell_type": "code",
   "source": [
    "#predicted value\n",
    "print(f()[0])"
   ],
   "metadata": {
    "execution": {
     "iopub.status.busy": "2023-08-31T01:40:03.138883Z",
     "iopub.execute_input": "2023-08-31T01:40:03.139249Z",
     "iopub.status.idle": "2023-08-31T01:40:03.213142Z",
     "shell.execute_reply.started": "2023-08-31T01:40:03.139219Z",
     "shell.execute_reply": "2023-08-31T01:40:03.211884Z"
    },
    "trusted": true
   },
   "execution_count": null,
   "outputs": []
  }
 ]
}
